{
 "cells": [
  {
   "cell_type": "code",
   "execution_count": 1,
   "id": "6749f4da",
   "metadata": {},
   "outputs": [
    {
     "name": "stderr",
     "output_type": "stream",
     "text": [
      "\n",
      "\n",
      "====== WebDriver manager ======\n",
      "Current google-chrome version is 97.0.4692\n",
      "Get LATEST chromedriver version for 97.0.4692 google-chrome\n",
      "Driver [C:\\Users\\KellyMcClelland\\.wdm\\drivers\\chromedriver\\win32\\97.0.4692.71\\chromedriver.exe] found in cache\n"
     ]
    }
   ],
   "source": [
    "from flask import Flask, render_template, redirect, url_for\n",
    "from flask_pymongo import PyMongo\n",
    "import scraping\n",
    "import warnings\n",
    "warnings.filterwarnings(\"ignore\")"
   ]
  },
  {
   "cell_type": "code",
   "execution_count": 2,
   "id": "b6596b1e",
   "metadata": {},
   "outputs": [],
   "source": [
    "app = Flask(__name__)"
   ]
  },
  {
   "cell_type": "code",
   "execution_count": 3,
   "id": "f3edc593",
   "metadata": {},
   "outputs": [],
   "source": [
    "# Use flask_pymongo to set up mongo connection\n",
    "app.config['MONGO_URI'] = 'mongodb://localhost:27017/mars-app'\n",
    "mongo = PyMongo(app)"
   ]
  },
  {
   "cell_type": "code",
   "execution_count": 4,
   "id": "a919dd92",
   "metadata": {},
   "outputs": [],
   "source": [
    "# Define the route for the HTML page\n",
    "@app.route('/')\n",
    "def index():\n",
    "\tmars - mongo.db.mars.find_one()\n",
    "\treturn render_template('index.html', mars = mars)"
   ]
  },
  {
   "cell_type": "code",
   "execution_count": 5,
   "id": "b5874978",
   "metadata": {},
   "outputs": [],
   "source": [
    "# Add the next route and function to our code\n",
    "## defines the route that Flask will be using.  Scrape will run the function that we create just beneath it.\n",
    "@app.route('/scrape')\n",
    "# The next lines allow us to access the database, scrape new data using our scraping.py\n",
    "## First, we define it with def scrate():\n",
    "def scrape():\n",
    "\t### We assign a new variable that points to our Mongo database.\n",
    "\tmars = mongo.db.mars\n",
    "\t### Create a new variable to hold the newly scraped data referencing scraping all.\n",
    "\tmars_data = scraping.scrape_all()\n",
    "\t### Now that we've gathered new data, we need to update the database using update_one()\n",
    "\tmars.update_one({}, {'$set': mars_data}, upsert = True)\n",
    "\t### Code we need for Flask is to tell it to run\n",
    "\treturn redirect('/', code = 302)"
   ]
  }
 ],
 "metadata": {
  "kernelspec": {
   "display_name": "PythonData",
   "language": "python",
   "name": "pythondata"
  },
  "language_info": {
   "codemirror_mode": {
    "name": "ipython",
    "version": 3
   },
   "file_extension": ".py",
   "mimetype": "text/x-python",
   "name": "python",
   "nbconvert_exporter": "python",
   "pygments_lexer": "ipython3",
   "version": "3.9.7"
  }
 },
 "nbformat": 4,
 "nbformat_minor": 5
}
